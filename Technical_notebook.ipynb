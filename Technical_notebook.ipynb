{
 "cells": [
  {
   "cell_type": "code",
   "execution_count": 1,
   "metadata": {},
   "outputs": [],
   "source": [
    "import pandas as pd\n",
    "import random\n",
    "import numpy as np\n",
    "import statsmodels.api as sm\n",
    "import warnings\n",
    "warnings.filterwarnings('ignore')\n",
    "import matplotlib.pyplot as plt\n",
    "import seaborn as sns\n",
    "from sklearn.model_selection import train_test_split\n",
    "from sklearn.ensemble import RandomForestClassifier\n",
    "from sklearn.naive_bayes import GaussianNB\n",
    "from sklearn.linear_model import LogisticRegression\n",
    "from sklearn.preprocessing import MinMaxScaler\n",
    "from scipy import stats\n",
    "from sklearn.metrics import accuracy_score, recall_score, f1_score, precision_score, roc_auc_score\n",
    "from sklearn.tree import DecisionTreeClassifier\n",
    "from xgboost import XGBClassifier\n",
    "from sklearn.svm import LinearSVC\n",
    "from sklearn.linear_model import SGDClassifier\n",
    "from sklearn.svm import SVC\n",
    "from sklearn.neighbors import KNeighborsClassifier\n",
    "from sklearn.metrics import classification_report\n",
    "from sklearn.metrics import confusion_matrix"
   ]
  },
  {
   "cell_type": "code",
   "execution_count": 2,
   "metadata": {},
   "outputs": [],
   "source": [
    "df = pd.read_csv('GlaucomaM.csv')"
   ]
  },
  {
   "cell_type": "code",
   "execution_count": 3,
   "metadata": {},
   "outputs": [
    {
     "name": "stdout",
     "output_type": "stream",
     "text": [
      "(196, 63)\n"
     ]
    },
    {
     "data": {
      "text/html": [
       "<div>\n",
       "<style scoped>\n",
       "    .dataframe tbody tr th:only-of-type {\n",
       "        vertical-align: middle;\n",
       "    }\n",
       "\n",
       "    .dataframe tbody tr th {\n",
       "        vertical-align: top;\n",
       "    }\n",
       "\n",
       "    .dataframe thead th {\n",
       "        text-align: right;\n",
       "    }\n",
       "</style>\n",
       "<table border=\"1\" class=\"dataframe\">\n",
       "  <thead>\n",
       "    <tr style=\"text-align: right;\">\n",
       "      <th></th>\n",
       "      <th>ag</th>\n",
       "      <th>at</th>\n",
       "      <th>as</th>\n",
       "      <th>an</th>\n",
       "      <th>ai</th>\n",
       "      <th>eag</th>\n",
       "      <th>eat</th>\n",
       "      <th>eas</th>\n",
       "      <th>ean</th>\n",
       "      <th>eai</th>\n",
       "      <th>...</th>\n",
       "      <th>tmt</th>\n",
       "      <th>tms</th>\n",
       "      <th>tmn</th>\n",
       "      <th>tmi</th>\n",
       "      <th>mr</th>\n",
       "      <th>rnf</th>\n",
       "      <th>mdic</th>\n",
       "      <th>emd</th>\n",
       "      <th>mv</th>\n",
       "      <th>Class</th>\n",
       "    </tr>\n",
       "  </thead>\n",
       "  <tbody>\n",
       "    <tr>\n",
       "      <td>0</td>\n",
       "      <td>2.220</td>\n",
       "      <td>0.354</td>\n",
       "      <td>0.580</td>\n",
       "      <td>0.686</td>\n",
       "      <td>0.601</td>\n",
       "      <td>1.267</td>\n",
       "      <td>0.336</td>\n",
       "      <td>0.346</td>\n",
       "      <td>0.255</td>\n",
       "      <td>0.331</td>\n",
       "      <td>...</td>\n",
       "      <td>-0.018</td>\n",
       "      <td>-0.230</td>\n",
       "      <td>-0.510</td>\n",
       "      <td>-0.158</td>\n",
       "      <td>0.841</td>\n",
       "      <td>0.410</td>\n",
       "      <td>0.137</td>\n",
       "      <td>0.239</td>\n",
       "      <td>0.035</td>\n",
       "      <td>normal</td>\n",
       "    </tr>\n",
       "    <tr>\n",
       "      <td>1</td>\n",
       "      <td>2.681</td>\n",
       "      <td>0.475</td>\n",
       "      <td>0.672</td>\n",
       "      <td>0.868</td>\n",
       "      <td>0.667</td>\n",
       "      <td>2.053</td>\n",
       "      <td>0.440</td>\n",
       "      <td>0.520</td>\n",
       "      <td>0.639</td>\n",
       "      <td>0.454</td>\n",
       "      <td>...</td>\n",
       "      <td>-0.014</td>\n",
       "      <td>-0.165</td>\n",
       "      <td>-0.317</td>\n",
       "      <td>-0.192</td>\n",
       "      <td>0.924</td>\n",
       "      <td>0.256</td>\n",
       "      <td>0.252</td>\n",
       "      <td>0.329</td>\n",
       "      <td>0.022</td>\n",
       "      <td>normal</td>\n",
       "    </tr>\n",
       "    <tr>\n",
       "      <td>2</td>\n",
       "      <td>1.979</td>\n",
       "      <td>0.343</td>\n",
       "      <td>0.508</td>\n",
       "      <td>0.624</td>\n",
       "      <td>0.504</td>\n",
       "      <td>1.200</td>\n",
       "      <td>0.299</td>\n",
       "      <td>0.396</td>\n",
       "      <td>0.259</td>\n",
       "      <td>0.246</td>\n",
       "      <td>...</td>\n",
       "      <td>-0.097</td>\n",
       "      <td>-0.235</td>\n",
       "      <td>-0.337</td>\n",
       "      <td>-0.020</td>\n",
       "      <td>0.795</td>\n",
       "      <td>0.378</td>\n",
       "      <td>0.152</td>\n",
       "      <td>0.250</td>\n",
       "      <td>0.029</td>\n",
       "      <td>normal</td>\n",
       "    </tr>\n",
       "    <tr>\n",
       "      <td>3</td>\n",
       "      <td>1.747</td>\n",
       "      <td>0.269</td>\n",
       "      <td>0.476</td>\n",
       "      <td>0.525</td>\n",
       "      <td>0.476</td>\n",
       "      <td>0.612</td>\n",
       "      <td>0.147</td>\n",
       "      <td>0.017</td>\n",
       "      <td>0.044</td>\n",
       "      <td>0.405</td>\n",
       "      <td>...</td>\n",
       "      <td>-0.035</td>\n",
       "      <td>-0.449</td>\n",
       "      <td>-0.217</td>\n",
       "      <td>-0.091</td>\n",
       "      <td>0.746</td>\n",
       "      <td>0.200</td>\n",
       "      <td>0.027</td>\n",
       "      <td>0.078</td>\n",
       "      <td>0.023</td>\n",
       "      <td>normal</td>\n",
       "    </tr>\n",
       "    <tr>\n",
       "      <td>4</td>\n",
       "      <td>2.990</td>\n",
       "      <td>0.599</td>\n",
       "      <td>0.686</td>\n",
       "      <td>1.039</td>\n",
       "      <td>0.667</td>\n",
       "      <td>2.513</td>\n",
       "      <td>0.543</td>\n",
       "      <td>0.607</td>\n",
       "      <td>0.871</td>\n",
       "      <td>0.492</td>\n",
       "      <td>...</td>\n",
       "      <td>-0.105</td>\n",
       "      <td>0.084</td>\n",
       "      <td>-0.012</td>\n",
       "      <td>-0.054</td>\n",
       "      <td>0.977</td>\n",
       "      <td>0.193</td>\n",
       "      <td>0.297</td>\n",
       "      <td>0.354</td>\n",
       "      <td>0.034</td>\n",
       "      <td>normal</td>\n",
       "    </tr>\n",
       "  </tbody>\n",
       "</table>\n",
       "<p>5 rows × 63 columns</p>\n",
       "</div>"
      ],
      "text/plain": [
       "      ag     at     as     an     ai    eag    eat    eas    ean    eai  ...  \\\n",
       "0  2.220  0.354  0.580  0.686  0.601  1.267  0.336  0.346  0.255  0.331  ...   \n",
       "1  2.681  0.475  0.672  0.868  0.667  2.053  0.440  0.520  0.639  0.454  ...   \n",
       "2  1.979  0.343  0.508  0.624  0.504  1.200  0.299  0.396  0.259  0.246  ...   \n",
       "3  1.747  0.269  0.476  0.525  0.476  0.612  0.147  0.017  0.044  0.405  ...   \n",
       "4  2.990  0.599  0.686  1.039  0.667  2.513  0.543  0.607  0.871  0.492  ...   \n",
       "\n",
       "     tmt    tms    tmn    tmi     mr    rnf   mdic    emd     mv   Class  \n",
       "0 -0.018 -0.230 -0.510 -0.158  0.841  0.410  0.137  0.239  0.035  normal  \n",
       "1 -0.014 -0.165 -0.317 -0.192  0.924  0.256  0.252  0.329  0.022  normal  \n",
       "2 -0.097 -0.235 -0.337 -0.020  0.795  0.378  0.152  0.250  0.029  normal  \n",
       "3 -0.035 -0.449 -0.217 -0.091  0.746  0.200  0.027  0.078  0.023  normal  \n",
       "4 -0.105  0.084 -0.012 -0.054  0.977  0.193  0.297  0.354  0.034  normal  \n",
       "\n",
       "[5 rows x 63 columns]"
      ]
     },
     "execution_count": 3,
     "metadata": {},
     "output_type": "execute_result"
    }
   ],
   "source": [
    "print(df.shape)\n",
    "df.head()"
   ]
  },
  {
   "cell_type": "code",
   "execution_count": 4,
   "metadata": {},
   "outputs": [],
   "source": [
    "class_dict = {'normal':0,'glaucoma':1}"
   ]
  },
  {
   "cell_type": "code",
   "execution_count": 5,
   "metadata": {},
   "outputs": [],
   "source": [
    "df.Class = df.Class.map(lambda x: class_dict[x])"
   ]
  },
  {
   "cell_type": "code",
   "execution_count": 6,
   "metadata": {},
   "outputs": [],
   "source": [
    "X = df.drop('Class',axis=1)\n",
    "y = df.Class"
   ]
  },
  {
   "cell_type": "code",
   "execution_count": 7,
   "metadata": {},
   "outputs": [],
   "source": [
    "X_train, X_test, y_train, y_test = train_test_split(X,y,test_size=0.25,random_state=14)"
   ]
  },
  {
   "cell_type": "code",
   "execution_count": 8,
   "metadata": {},
   "outputs": [
    {
     "data": {
      "text/plain": [
       "1    76\n",
       "0    71\n",
       "Name: Class, dtype: int64"
      ]
     },
     "execution_count": 8,
     "metadata": {},
     "output_type": "execute_result"
    }
   ],
   "source": [
    "y_train.value_counts()"
   ]
  },
  {
   "cell_type": "code",
   "execution_count": 9,
   "metadata": {},
   "outputs": [
    {
     "name": "stderr",
     "output_type": "stream",
     "text": [
      "Using TensorFlow backend.\n"
     ]
    }
   ],
   "source": [
    "from imblearn.datasets import make_imbalance"
   ]
  },
  {
   "cell_type": "code",
   "execution_count": 10,
   "metadata": {},
   "outputs": [],
   "source": [
    "X_train, y_train = make_imbalance(X_train,y_train, sampling_strategy = {0:71,1:71})"
   ]
  },
  {
   "cell_type": "code",
   "execution_count": 11,
   "metadata": {},
   "outputs": [],
   "source": [
    "report_dict = {'rf':[],'dt':[],'xgb':[],'sgd':[],'logreg':[],'lsvc':[],'svm':[],'gnb':[],'knn':[]}"
   ]
  },
  {
   "cell_type": "code",
   "execution_count": 12,
   "metadata": {},
   "outputs": [
    {
     "name": "stdout",
     "output_type": "stream",
     "text": [
      "              precision    recall  f1-score   support\n",
      "\n",
      "           0       0.84      1.00      0.92        27\n",
      "           1       1.00      0.77      0.87        22\n",
      "\n",
      "    accuracy                           0.90        49\n",
      "   macro avg       0.92      0.89      0.89        49\n",
      "weighted avg       0.91      0.90      0.90        49\n",
      "\n"
     ]
    },
    {
     "data": {
      "text/plain": [
       "<Figure size 432x288 with 0 Axes>"
      ]
     },
     "metadata": {},
     "output_type": "display_data"
    },
    {
     "data": {
      "image/png": "[encoded data removed]",
      "text/plain": [
       "<Figure size 576x288 with 2 Axes>"
      ]
     },
     "metadata": {
      "needs_background": "light"
     },
     "output_type": "display_data"
    }
   ],
   "source": [
    "rf = RandomForestClassifier()\n",
    "rf.fit(X_train,y_train)\n",
    "Y_pred = rf.predict(X_test)\n",
    "print(classification_report(y_test,Y_pred))\n",
    "plt.tight_layout()\n",
    "plt.figure(figsize=(8,4))\n",
    "sns.heatmap(confusion_matrix(y_test,Y_pred))\n",
    "report_dict['rf'].append((round(accuracy_score(y_test,Y_pred),3),round(precision_score(y_test,Y_pred),3),\n",
    "round(recall_score(y_test,Y_pred),3),round(f1_score(y_test,Y_pred),3)))"
   ]
  },
  {
   "cell_type": "code",
   "execution_count": 13,
   "metadata": {},
   "outputs": [
    {
     "name": "stdout",
     "output_type": "stream",
     "text": [
      "              precision    recall  f1-score   support\n",
      "\n",
      "           0       0.86      0.93      0.89        27\n",
      "           1       0.90      0.82      0.86        22\n",
      "\n",
      "    accuracy                           0.88        49\n",
      "   macro avg       0.88      0.87      0.88        49\n",
      "weighted avg       0.88      0.88      0.88        49\n",
      "\n"
     ]
    },
    {
     "data": {
      "text/plain": [
       "<Figure size 432x288 with 0 Axes>"
      ]
     },
     "metadata": {},
     "output_type": "display_data"
    },
    {
     "data": {
      "image/png": "[encoded data removed]",
      "text/plain": [
       "<Figure size 576x288 with 2 Axes>"
      ]
     },
     "metadata": {
      "needs_background": "light"
     },
     "output_type": "display_data"
    }
   ],
   "source": [
    "xgb = XGBClassifier()\n",
    "xgb.fit(X_train,y_train)\n",
    "Y_pred = xgb.predict(X_test)\n",
    "print(classification_report(y_test,Y_pred))\n",
    "plt.tight_layout()\n",
    "plt.figure(figsize=(8,4))\n",
    "sns.heatmap(confusion_matrix(y_test,Y_pred))\n",
    "report_dict['xgb'].append((round(accuracy_score(y_test,Y_pred),3),round(precision_score(y_test,Y_pred),3),\n",
    "round(recall_score(y_test,Y_pred),3),round(f1_score(y_test,Y_pred),3)))"
   ]
  },
  {
   "cell_type": "code",
   "execution_count": 14,
   "metadata": {},
   "outputs": [
    {
     "name": "stdout",
     "output_type": "stream",
     "text": [
      "              precision    recall  f1-score   support\n",
      "\n",
      "           0       0.83      0.89      0.86        27\n",
      "           1       0.85      0.77      0.81        22\n",
      "\n",
      "    accuracy                           0.84        49\n",
      "   macro avg       0.84      0.83      0.83        49\n",
      "weighted avg       0.84      0.84      0.84        49\n",
      "\n"
     ]
    },
    {
     "data": {
      "text/plain": [
       "<Figure size 432x288 with 0 Axes>"
      ]
     },
     "metadata": {},
     "output_type": "display_data"
    },
    {
     "data": {
      "image/png": "[encoded data removed]",
      "text/plain": [
       "<Figure size 576x288 with 2 Axes>"
      ]
     },
     "metadata": {
      "needs_background": "light"
     },
     "output_type": "display_data"
    }
   ],
   "source": [
    "logreg = LogisticRegression()\n",
    "logreg.fit(X_train,y_train)\n",
    "Y_pred = logreg.predict(X_test)\n",
    "print(classification_report(y_test,Y_pred))\n",
    "plt.tight_layout()\n",
    "plt.figure(figsize=(8,4))\n",
    "sns.heatmap(confusion_matrix(y_test,Y_pred))\n",
    "report_dict['logreg'].append((round(accuracy_score(y_test,Y_pred),3),round(precision_score(y_test,Y_pred),3),\n",
    "round(recall_score(y_test,Y_pred),3),round(f1_score(y_test,Y_pred),3)))"
   ]
  },
  {
   "cell_type": "code",
   "execution_count": 15,
   "metadata": {},
   "outputs": [
    {
     "name": "stdout",
     "output_type": "stream",
     "text": [
      "              precision    recall  f1-score   support\n",
      "\n",
      "           0       0.87      0.74      0.80        27\n",
      "           1       0.73      0.86      0.79        22\n",
      "\n",
      "    accuracy                           0.80        49\n",
      "   macro avg       0.80      0.80      0.80        49\n",
      "weighted avg       0.81      0.80      0.80        49\n",
      "\n"
     ]
    },
    {
     "data": {
      "text/plain": [
       "<Figure size 432x288 with 0 Axes>"
      ]
     },
     "metadata": {},
     "output_type": "display_data"
    },
    {
     "data": {
      "image/png": "[encoded data removed]",
      "text/plain": [
       "<Figure size 576x288 with 2 Axes>"
      ]
     },
     "metadata": {
      "needs_background": "light"
     },
     "output_type": "display_data"
    }
   ],
   "source": [
    "gnb = GaussianNB()\n",
    "gnb.fit(X_train,y_train)\n",
    "Y_pred = gnb.predict(X_test)\n",
    "print(classification_report(y_test,Y_pred))\n",
    "plt.tight_layout()\n",
    "plt.figure(figsize=(8,4))\n",
    "sns.heatmap(confusion_matrix(y_test,Y_pred))\n",
    "report_dict['gnb'].append((round(accuracy_score(y_test,Y_pred),3),round(precision_score(y_test,Y_pred),3),\n",
    "round(recall_score(y_test,Y_pred),3),round(f1_score(y_test,Y_pred),3)))"
   ]
  },
  {
   "cell_type": "code",
   "execution_count": 16,
   "metadata": {},
   "outputs": [
    {
     "name": "stdout",
     "output_type": "stream",
     "text": [
      "              precision    recall  f1-score   support\n",
      "\n",
      "           0       0.81      0.81      0.81        27\n",
      "           1       0.77      0.77      0.77        22\n",
      "\n",
      "    accuracy                           0.80        49\n",
      "   macro avg       0.79      0.79      0.79        49\n",
      "weighted avg       0.80      0.80      0.80        49\n",
      "\n"
     ]
    },
    {
     "data": {
      "text/plain": [
       "<Figure size 432x288 with 0 Axes>"
      ]
     },
     "metadata": {},
     "output_type": "display_data"
    },
    {
     "data": {
      "image/png": "[encoded data removed]",
      "text/plain": [
       "<Figure size 576x288 with 2 Axes>"
      ]
     },
     "metadata": {
      "needs_background": "light"
     },
     "output_type": "display_data"
    }
   ],
   "source": [
    "dt = DecisionTreeClassifier()\n",
    "dt.fit(X_train,y_train)\n",
    "Y_pred = dt.predict(X_test)\n",
    "print(classification_report(y_test,Y_pred))\n",
    "plt.tight_layout()\n",
    "plt.figure(figsize=(8,4))\n",
    "sns.heatmap(confusion_matrix(y_test,Y_pred))\n",
    "report_dict['dt'].append((round(accuracy_score(y_test,Y_pred),3),round(precision_score(y_test,Y_pred),3),\n",
    "round(recall_score(y_test,Y_pred),3),round(f1_score(y_test,Y_pred),3)))"
   ]
  },
  {
   "cell_type": "code",
   "execution_count": 17,
   "metadata": {},
   "outputs": [
    {
     "name": "stdout",
     "output_type": "stream",
     "text": [
      "              precision    recall  f1-score   support\n",
      "\n",
      "           0       0.90      0.96      0.93        27\n",
      "           1       0.95      0.86      0.90        22\n",
      "\n",
      "    accuracy                           0.92        49\n",
      "   macro avg       0.92      0.91      0.92        49\n",
      "weighted avg       0.92      0.92      0.92        49\n",
      "\n"
     ]
    },
    {
     "data": {
      "text/plain": [
       "<Figure size 432x288 with 0 Axes>"
      ]
     },
     "metadata": {},
     "output_type": "display_data"
    },
    {
     "data": {
      "image/png": "[encoded data removed]",
      "text/plain": [
       "<Figure size 576x288 with 2 Axes>"
      ]
     },
     "metadata": {
      "needs_background": "light"
     },
     "output_type": "display_data"
    }
   ],
   "source": [
    "lsvc = LinearSVC()\n",
    "lsvc.fit(X_train,y_train)\n",
    "Y_pred = lsvc.predict(X_test)\n",
    "print(classification_report(y_test,Y_pred))\n",
    "plt.tight_layout()\n",
    "plt.figure(figsize=(8,4))\n",
    "sns.heatmap(confusion_matrix(y_test,Y_pred))\n",
    "report_dict['lsvc'].append((round(accuracy_score(y_test,Y_pred),3),round(precision_score(y_test,Y_pred),3),\n",
    "round(recall_score(y_test,Y_pred),3),round(f1_score(y_test,Y_pred),3)))"
   ]
  },
  {
   "cell_type": "code",
   "execution_count": 18,
   "metadata": {},
   "outputs": [
    {
     "name": "stdout",
     "output_type": "stream",
     "text": [
      "              precision    recall  f1-score   support\n",
      "\n",
      "           0       0.82      0.85      0.84        27\n",
      "           1       0.81      0.77      0.79        22\n",
      "\n",
      "    accuracy                           0.82        49\n",
      "   macro avg       0.82      0.81      0.81        49\n",
      "weighted avg       0.82      0.82      0.82        49\n",
      "\n"
     ]
    },
    {
     "data": {
      "text/plain": [
       "<Figure size 432x288 with 0 Axes>"
      ]
     },
     "metadata": {},
     "output_type": "display_data"
    },
    {
     "data": {
      "image/png": "[encoded data removed]",
      "text/plain": [
       "<Figure size 576x288 with 2 Axes>"
      ]
     },
     "metadata": {
      "needs_background": "light"
     },
     "output_type": "display_data"
    }
   ],
   "source": [
    "svm = SVC()\n",
    "svm.fit(X_train,y_train)\n",
    "Y_pred = svm.predict(X_test)\n",
    "print(classification_report(y_test,Y_pred))\n",
    "plt.tight_layout()\n",
    "plt.figure(figsize=(8,4))\n",
    "sns.heatmap(confusion_matrix(y_test,Y_pred))\n",
    "report_dict['svm'].append((round(accuracy_score(y_test,Y_pred),3),round(precision_score(y_test,Y_pred),3),\n",
    "round(recall_score(y_test,Y_pred),3),round(f1_score(y_test,Y_pred),3)))"
   ]
  },
  {
   "cell_type": "code",
   "execution_count": 19,
   "metadata": {},
   "outputs": [
    {
     "name": "stdout",
     "output_type": "stream",
     "text": [
      "              precision    recall  f1-score   support\n",
      "\n",
      "           0       0.79      1.00      0.89        27\n",
      "           1       1.00      0.68      0.81        22\n",
      "\n",
      "    accuracy                           0.86        49\n",
      "   macro avg       0.90      0.84      0.85        49\n",
      "weighted avg       0.89      0.86      0.85        49\n",
      "\n"
     ]
    },
    {
     "data": {
      "text/plain": [
       "<Figure size 432x288 with 0 Axes>"
      ]
     },
     "metadata": {},
     "output_type": "display_data"
    },
    {
     "data": {
      "image/png": "[encoded data removed]",
      "text/plain": [
       "<Figure size 576x288 with 2 Axes>"
      ]
     },
     "metadata": {
      "needs_background": "light"
     },
     "output_type": "display_data"
    }
   ],
   "source": [
    "sgd = SGDClassifier()\n",
    "sgd.fit(X_train,y_train)\n",
    "Y_pred = sgd.predict(X_test)\n",
    "print(classification_report(y_test,Y_pred))\n",
    "plt.tight_layout()\n",
    "plt.figure(figsize=(8,4))\n",
    "sns.heatmap(confusion_matrix(y_test,Y_pred))\n",
    "report_dict['sgd'].append((round(accuracy_score(y_test,Y_pred),3),round(precision_score(y_test,Y_pred),3),\n",
    "round(recall_score(y_test,Y_pred),3),round(f1_score(y_test,Y_pred),3)))"
   ]
  },
  {
   "cell_type": "code",
   "execution_count": 20,
   "metadata": {},
   "outputs": [
    {
     "name": "stdout",
     "output_type": "stream",
     "text": [
      "              precision    recall  f1-score   support\n",
      "\n",
      "           0       0.87      1.00      0.93        27\n",
      "           1       1.00      0.82      0.90        22\n",
      "\n",
      "    accuracy                           0.92        49\n",
      "   macro avg       0.94      0.91      0.92        49\n",
      "weighted avg       0.93      0.92      0.92        49\n",
      "\n"
     ]
    },
    {
     "data": {
      "text/plain": [
       "<Figure size 432x288 with 0 Axes>"
      ]
     },
     "metadata": {},
     "output_type": "display_data"
    },
    {
     "data": {
      "image/png": "[encoded data removed]",
      "text/plain": [
       "<Figure size 576x288 with 2 Axes>"
      ]
     },
     "metadata": {
      "needs_background": "light"
     },
     "output_type": "display_data"
    }
   ],
   "source": [
    "knn = KNeighborsClassifier()\n",
    "knn.fit(X_train,y_train)\n",
    "Y_pred = knn.predict(X_test)\n",
    "print(classification_report(y_test,Y_pred))\n",
    "plt.tight_layout()\n",
    "plt.figure(figsize=(8,4))\n",
    "sns.heatmap(confusion_matrix(y_test,Y_pred))\n",
    "report_dict['knn'].append((round(accuracy_score(y_test,Y_pred),3),round(precision_score(y_test,Y_pred),3),\n",
    "round(recall_score(y_test,Y_pred),3),round(f1_score(y_test,Y_pred),3)))"
   ]
  },
  {
   "cell_type": "code",
   "execution_count": 21,
   "metadata": {},
   "outputs": [
    {
     "name": "stdout",
     "output_type": "stream",
     "text": [
      "accuracy, precision, recall, f1\n"
     ]
    }
   ],
   "source": [
    "print('accuracy, precision, recall, f1')"
   ]
  },
  {
   "cell_type": "code",
   "execution_count": 22,
   "metadata": {},
   "outputs": [
    {
     "data": {
      "text/html": [
       "<div>\n",
       "<style scoped>\n",
       "    .dataframe tbody tr th:only-of-type {\n",
       "        vertical-align: middle;\n",
       "    }\n",
       "\n",
       "    .dataframe tbody tr th {\n",
       "        vertical-align: top;\n",
       "    }\n",
       "\n",
       "    .dataframe thead th {\n",
       "        text-align: right;\n",
       "    }\n",
       "</style>\n",
       "<table border=\"1\" class=\"dataframe\">\n",
       "  <thead>\n",
       "    <tr style=\"text-align: right;\">\n",
       "      <th></th>\n",
       "      <th>rf</th>\n",
       "      <th>dt</th>\n",
       "      <th>xgb</th>\n",
       "      <th>sgd</th>\n",
       "      <th>logreg</th>\n",
       "      <th>lsvc</th>\n",
       "      <th>svm</th>\n",
       "      <th>gnb</th>\n",
       "      <th>knn</th>\n",
       "    </tr>\n",
       "  </thead>\n",
       "  <tbody>\n",
       "    <tr>\n",
       "      <td>0</td>\n",
       "      <td>(0.898, 1.0, 0.773, 0.872)</td>\n",
       "      <td>(0.796, 0.773, 0.773, 0.773)</td>\n",
       "      <td>(0.878, 0.9, 0.818, 0.857)</td>\n",
       "      <td>(0.857, 1.0, 0.682, 0.811)</td>\n",
       "      <td>(0.837, 0.85, 0.773, 0.81)</td>\n",
       "      <td>(0.918, 0.95, 0.864, 0.905)</td>\n",
       "      <td>(0.816, 0.81, 0.773, 0.791)</td>\n",
       "      <td>(0.796, 0.731, 0.864, 0.792)</td>\n",
       "      <td>(0.918, 1.0, 0.818, 0.9)</td>\n",
       "    </tr>\n",
       "  </tbody>\n",
       "</table>\n",
       "</div>"
      ],
      "text/plain": [
       "                           rf                            dt  \\\n",
       "0  (0.898, 1.0, 0.773, 0.872)  (0.796, 0.773, 0.773, 0.773)   \n",
       "\n",
       "                          xgb                         sgd  \\\n",
       "0  (0.878, 0.9, 0.818, 0.857)  (0.857, 1.0, 0.682, 0.811)   \n",
       "\n",
       "                       logreg                         lsvc  \\\n",
       "0  (0.837, 0.85, 0.773, 0.81)  (0.918, 0.95, 0.864, 0.905)   \n",
       "\n",
       "                           svm                           gnb  \\\n",
       "0  (0.816, 0.81, 0.773, 0.791)  (0.796, 0.731, 0.864, 0.792)   \n",
       "\n",
       "                        knn  \n",
       "0  (0.918, 1.0, 0.818, 0.9)  "
      ]
     },
     "execution_count": 22,
     "metadata": {},
     "output_type": "execute_result"
    }
   ],
   "source": [
    "pd.DataFrame(report_dict)"
   ]
  }
 ],
 "metadata": {
  "kernelspec": {
   "display_name": "Python 3",
   "language": "python",
   "name": "python3"
  },
  "language_info": {
   "codemirror_mode": {
    "name": "ipython",
    "version": 3
   },
   "file_extension": ".py",
   "mimetype": "text/x-python",
   "name": "python",
   "nbconvert_exporter": "python",
   "pygments_lexer": "ipython3",
   "version": "3.7.4"
  }
 },
 "nbformat": 4,
 "nbformat_minor": 4
}
